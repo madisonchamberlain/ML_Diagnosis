{
  "nbformat": 4,
  "nbformat_minor": 0,
  "metadata": {
    "colab": {
      "name": "ch9_q2.ipynb",
      "provenance": [],
      "collapsed_sections": []
    },
    "kernelspec": {
      "name": "python3",
      "display_name": "Python 3"
    }
  },
  "cells": [
    {
      "cell_type": "markdown",
      "metadata": {
        "id": "iDrDnAq6h2ZC"
      },
      "source": [
        "# Write a function to determine the optimal (highest accuracy on test set) degree and/or cost for rbf or polynomial kernels for the breast cancer dataset. (You choose the inputs you think are appropriate.)"
      ]
    },
    {
      "cell_type": "code",
      "metadata": {
        "id": "TbKV8FBSiGkI"
      },
      "source": [
        "from sklearn.datasets import load_breast_cancer\n",
        "import numpy as np\n",
        "import matplotlib.pyplot as plt\n",
        "import pandas as pd\n",
        "\n",
        "X, Y = load_breast_cancer(return_X_y=True)"
      ],
      "execution_count": null,
      "outputs": []
    },
    {
      "cell_type": "markdown",
      "metadata": {
        "id": "6lc0VYOjO6dr"
      },
      "source": [
        "Visualizing the data with a DataFrame:"
      ]
    },
    {
      "cell_type": "code",
      "metadata": {
        "id": "acRORczlGyY4",
        "colab": {
          "base_uri": "https://localhost:8080/",
          "height": 251
        },
        "outputId": "d4057ca4-96ff-464b-9ffe-33e2d60f822e"
      },
      "source": [
        "from sklearn import datasets\n",
        "import pandas as pd\n",
        "\n",
        "cancer = datasets.load_breast_cancer()\n",
        "cancer_df=pd.DataFrame(cancer.data,columns=cancer.feature_names)\n",
        "cancer_df.head()"
      ],
      "execution_count": null,
      "outputs": [
        {
          "output_type": "execute_result",
          "data": {
            "text/html": [
              "<div>\n",
              "<style scoped>\n",
              "    .dataframe tbody tr th:only-of-type {\n",
              "        vertical-align: middle;\n",
              "    }\n",
              "\n",
              "    .dataframe tbody tr th {\n",
              "        vertical-align: top;\n",
              "    }\n",
              "\n",
              "    .dataframe thead th {\n",
              "        text-align: right;\n",
              "    }\n",
              "</style>\n",
              "<table border=\"1\" class=\"dataframe\">\n",
              "  <thead>\n",
              "    <tr style=\"text-align: right;\">\n",
              "      <th></th>\n",
              "      <th>mean radius</th>\n",
              "      <th>mean texture</th>\n",
              "      <th>mean perimeter</th>\n",
              "      <th>mean area</th>\n",
              "      <th>mean smoothness</th>\n",
              "      <th>mean compactness</th>\n",
              "      <th>mean concavity</th>\n",
              "      <th>mean concave points</th>\n",
              "      <th>mean symmetry</th>\n",
              "      <th>mean fractal dimension</th>\n",
              "      <th>radius error</th>\n",
              "      <th>texture error</th>\n",
              "      <th>perimeter error</th>\n",
              "      <th>area error</th>\n",
              "      <th>smoothness error</th>\n",
              "      <th>compactness error</th>\n",
              "      <th>concavity error</th>\n",
              "      <th>concave points error</th>\n",
              "      <th>symmetry error</th>\n",
              "      <th>fractal dimension error</th>\n",
              "      <th>worst radius</th>\n",
              "      <th>worst texture</th>\n",
              "      <th>worst perimeter</th>\n",
              "      <th>worst area</th>\n",
              "      <th>worst smoothness</th>\n",
              "      <th>worst compactness</th>\n",
              "      <th>worst concavity</th>\n",
              "      <th>worst concave points</th>\n",
              "      <th>worst symmetry</th>\n",
              "      <th>worst fractal dimension</th>\n",
              "    </tr>\n",
              "  </thead>\n",
              "  <tbody>\n",
              "    <tr>\n",
              "      <th>0</th>\n",
              "      <td>17.99</td>\n",
              "      <td>10.38</td>\n",
              "      <td>122.80</td>\n",
              "      <td>1001.0</td>\n",
              "      <td>0.11840</td>\n",
              "      <td>0.27760</td>\n",
              "      <td>0.3001</td>\n",
              "      <td>0.14710</td>\n",
              "      <td>0.2419</td>\n",
              "      <td>0.07871</td>\n",
              "      <td>1.0950</td>\n",
              "      <td>0.9053</td>\n",
              "      <td>8.589</td>\n",
              "      <td>153.40</td>\n",
              "      <td>0.006399</td>\n",
              "      <td>0.04904</td>\n",
              "      <td>0.05373</td>\n",
              "      <td>0.01587</td>\n",
              "      <td>0.03003</td>\n",
              "      <td>0.006193</td>\n",
              "      <td>25.38</td>\n",
              "      <td>17.33</td>\n",
              "      <td>184.60</td>\n",
              "      <td>2019.0</td>\n",
              "      <td>0.1622</td>\n",
              "      <td>0.6656</td>\n",
              "      <td>0.7119</td>\n",
              "      <td>0.2654</td>\n",
              "      <td>0.4601</td>\n",
              "      <td>0.11890</td>\n",
              "    </tr>\n",
              "    <tr>\n",
              "      <th>1</th>\n",
              "      <td>20.57</td>\n",
              "      <td>17.77</td>\n",
              "      <td>132.90</td>\n",
              "      <td>1326.0</td>\n",
              "      <td>0.08474</td>\n",
              "      <td>0.07864</td>\n",
              "      <td>0.0869</td>\n",
              "      <td>0.07017</td>\n",
              "      <td>0.1812</td>\n",
              "      <td>0.05667</td>\n",
              "      <td>0.5435</td>\n",
              "      <td>0.7339</td>\n",
              "      <td>3.398</td>\n",
              "      <td>74.08</td>\n",
              "      <td>0.005225</td>\n",
              "      <td>0.01308</td>\n",
              "      <td>0.01860</td>\n",
              "      <td>0.01340</td>\n",
              "      <td>0.01389</td>\n",
              "      <td>0.003532</td>\n",
              "      <td>24.99</td>\n",
              "      <td>23.41</td>\n",
              "      <td>158.80</td>\n",
              "      <td>1956.0</td>\n",
              "      <td>0.1238</td>\n",
              "      <td>0.1866</td>\n",
              "      <td>0.2416</td>\n",
              "      <td>0.1860</td>\n",
              "      <td>0.2750</td>\n",
              "      <td>0.08902</td>\n",
              "    </tr>\n",
              "    <tr>\n",
              "      <th>2</th>\n",
              "      <td>19.69</td>\n",
              "      <td>21.25</td>\n",
              "      <td>130.00</td>\n",
              "      <td>1203.0</td>\n",
              "      <td>0.10960</td>\n",
              "      <td>0.15990</td>\n",
              "      <td>0.1974</td>\n",
              "      <td>0.12790</td>\n",
              "      <td>0.2069</td>\n",
              "      <td>0.05999</td>\n",
              "      <td>0.7456</td>\n",
              "      <td>0.7869</td>\n",
              "      <td>4.585</td>\n",
              "      <td>94.03</td>\n",
              "      <td>0.006150</td>\n",
              "      <td>0.04006</td>\n",
              "      <td>0.03832</td>\n",
              "      <td>0.02058</td>\n",
              "      <td>0.02250</td>\n",
              "      <td>0.004571</td>\n",
              "      <td>23.57</td>\n",
              "      <td>25.53</td>\n",
              "      <td>152.50</td>\n",
              "      <td>1709.0</td>\n",
              "      <td>0.1444</td>\n",
              "      <td>0.4245</td>\n",
              "      <td>0.4504</td>\n",
              "      <td>0.2430</td>\n",
              "      <td>0.3613</td>\n",
              "      <td>0.08758</td>\n",
              "    </tr>\n",
              "    <tr>\n",
              "      <th>3</th>\n",
              "      <td>11.42</td>\n",
              "      <td>20.38</td>\n",
              "      <td>77.58</td>\n",
              "      <td>386.1</td>\n",
              "      <td>0.14250</td>\n",
              "      <td>0.28390</td>\n",
              "      <td>0.2414</td>\n",
              "      <td>0.10520</td>\n",
              "      <td>0.2597</td>\n",
              "      <td>0.09744</td>\n",
              "      <td>0.4956</td>\n",
              "      <td>1.1560</td>\n",
              "      <td>3.445</td>\n",
              "      <td>27.23</td>\n",
              "      <td>0.009110</td>\n",
              "      <td>0.07458</td>\n",
              "      <td>0.05661</td>\n",
              "      <td>0.01867</td>\n",
              "      <td>0.05963</td>\n",
              "      <td>0.009208</td>\n",
              "      <td>14.91</td>\n",
              "      <td>26.50</td>\n",
              "      <td>98.87</td>\n",
              "      <td>567.7</td>\n",
              "      <td>0.2098</td>\n",
              "      <td>0.8663</td>\n",
              "      <td>0.6869</td>\n",
              "      <td>0.2575</td>\n",
              "      <td>0.6638</td>\n",
              "      <td>0.17300</td>\n",
              "    </tr>\n",
              "    <tr>\n",
              "      <th>4</th>\n",
              "      <td>20.29</td>\n",
              "      <td>14.34</td>\n",
              "      <td>135.10</td>\n",
              "      <td>1297.0</td>\n",
              "      <td>0.10030</td>\n",
              "      <td>0.13280</td>\n",
              "      <td>0.1980</td>\n",
              "      <td>0.10430</td>\n",
              "      <td>0.1809</td>\n",
              "      <td>0.05883</td>\n",
              "      <td>0.7572</td>\n",
              "      <td>0.7813</td>\n",
              "      <td>5.438</td>\n",
              "      <td>94.44</td>\n",
              "      <td>0.011490</td>\n",
              "      <td>0.02461</td>\n",
              "      <td>0.05688</td>\n",
              "      <td>0.01885</td>\n",
              "      <td>0.01756</td>\n",
              "      <td>0.005115</td>\n",
              "      <td>22.54</td>\n",
              "      <td>16.67</td>\n",
              "      <td>152.20</td>\n",
              "      <td>1575.0</td>\n",
              "      <td>0.1374</td>\n",
              "      <td>0.2050</td>\n",
              "      <td>0.4000</td>\n",
              "      <td>0.1625</td>\n",
              "      <td>0.2364</td>\n",
              "      <td>0.07678</td>\n",
              "    </tr>\n",
              "  </tbody>\n",
              "</table>\n",
              "</div>"
            ],
            "text/plain": [
              "   mean radius  mean texture  ...  worst symmetry  worst fractal dimension\n",
              "0        17.99         10.38  ...          0.4601                  0.11890\n",
              "1        20.57         17.77  ...          0.2750                  0.08902\n",
              "2        19.69         21.25  ...          0.3613                  0.08758\n",
              "3        11.42         20.38  ...          0.6638                  0.17300\n",
              "4        20.29         14.34  ...          0.2364                  0.07678\n",
              "\n",
              "[5 rows x 30 columns]"
            ]
          },
          "metadata": {
            "tags": []
          },
          "execution_count": 2
        }
      ]
    },
    {
      "cell_type": "code",
      "metadata": {
        "id": "c-OYGtpzKGpQ",
        "colab": {
          "base_uri": "https://localhost:8080/",
          "height": 197
        },
        "outputId": "8f02a8b7-39a3-4c31-a1a8-d32630831f7c"
      },
      "source": [
        "Y_df = pd.DataFrame(cancer.target)\n",
        "Y_df.head()"
      ],
      "execution_count": null,
      "outputs": [
        {
          "output_type": "execute_result",
          "data": {
            "text/html": [
              "<div>\n",
              "<style scoped>\n",
              "    .dataframe tbody tr th:only-of-type {\n",
              "        vertical-align: middle;\n",
              "    }\n",
              "\n",
              "    .dataframe tbody tr th {\n",
              "        vertical-align: top;\n",
              "    }\n",
              "\n",
              "    .dataframe thead th {\n",
              "        text-align: right;\n",
              "    }\n",
              "</style>\n",
              "<table border=\"1\" class=\"dataframe\">\n",
              "  <thead>\n",
              "    <tr style=\"text-align: right;\">\n",
              "      <th></th>\n",
              "      <th>0</th>\n",
              "    </tr>\n",
              "  </thead>\n",
              "  <tbody>\n",
              "    <tr>\n",
              "      <th>0</th>\n",
              "      <td>0</td>\n",
              "    </tr>\n",
              "    <tr>\n",
              "      <th>1</th>\n",
              "      <td>0</td>\n",
              "    </tr>\n",
              "    <tr>\n",
              "      <th>2</th>\n",
              "      <td>0</td>\n",
              "    </tr>\n",
              "    <tr>\n",
              "      <th>3</th>\n",
              "      <td>0</td>\n",
              "    </tr>\n",
              "    <tr>\n",
              "      <th>4</th>\n",
              "      <td>0</td>\n",
              "    </tr>\n",
              "  </tbody>\n",
              "</table>\n",
              "</div>"
            ],
            "text/plain": [
              "   0\n",
              "0  0\n",
              "1  0\n",
              "2  0\n",
              "3  0\n",
              "4  0"
            ]
          },
          "metadata": {
            "tags": []
          },
          "execution_count": 3
        }
      ]
    },
    {
      "cell_type": "code",
      "metadata": {
        "id": "eLxP2MI3sePS"
      },
      "source": [
        "from sklearn.metrics import mean_absolute_error\n",
        "from sklearn.metrics import accuracy_score\n",
        "import numpy as np\n",
        "from sklearn import svm\n",
        "\n",
        "def fineTuningPoly(X_train, X_test, y_train, y_test, ds,Cs):\n",
        "  ranks = []\n",
        "  for d in ds:\n",
        "    for C in Cs:\n",
        "      clf = svm.SVC(kernel='poly', degree=d, gamma='auto', C=C)\n",
        "      model = clf.fit(X_train, y_train.ravel()) \n",
        "      y_pred = model.predict(X_test)\n",
        "      accuracy_d_c = [round(accuracy_score(y_pred, y_test),5), d, round(C, 2)]\n",
        "      ranks.append(accuracy_d_c)\n",
        "  return(ranks)\n",
        "\n",
        "\n",
        "def fineTuningRBF(X_train, X_test, y_train, y_test, Cs):\n",
        "  ranks = []\n",
        "  for C in Cs:\n",
        "    clf = svm.SVC(kernel='rbf', gamma=0.7, C=C)\n",
        "    model = clf.fit(X_train, y_train.ravel()) \n",
        "    y_pred = model.predict(X_test)\n",
        "    accuracy_c = [round(accuracy_score(y_pred, y_test),5), round(C,2)]\n",
        "    ranks.append(accuracy_c)\n",
        "  return(ranks)\n",
        "\n",
        "def optimal_cancer_preds(X, Y, Cs, ds, test_Size): # X and Y must be type array \n",
        "  X = pd.DataFrame(X).values\n",
        "  Y = pd.DataFrame(Y).values\n",
        "  from sklearn.model_selection import train_test_split\n",
        "  X_train, X_test, y_train, y_test = train_test_split(X, Y, test_size=test_size)\n",
        "  RBF_list = fineTuningRBF(X_train, X_test, y_train, y_test, Cs)  # find the accuracy for each RBF C\n",
        "  poly_list = fineTuningPoly(X_train, X_test, y_train, y_test, ds,Cs) # find the accuracy for each poly d and C\n",
        "  RBF_accuracy = []\n",
        "  poly_accuracy = []\n",
        "  for accuracy_c in RBF_list:\n",
        "    RBF_accuracy.append(accuracy_c[0])\n",
        "  for accuracy_d_c in poly_list:\n",
        "    poly_accuracy.append(accuracy_d_c[0])\n",
        "  best_accuracy_RBF = max(RBF_accuracy)  # find the highest generated accuracy for the RBF function \n",
        "  best_accuracy_poly = max(poly_accuracy)   # find the highest generated accuracy for the poly function\n",
        "  if best_accuracy_RBF >= best_accuracy_poly:  # if the RBF produces a better-best accuracy than the poly \n",
        "    bests = []   # also if there is a tie I chose RBF because its faster \n",
        "    for accuracy_c in RBF_list:\n",
        "      if accuracy_c[0] == best_accuracy_RBF:  # add the Cs that gave the highest accuracy to a return list\n",
        "        bests.append(accuracy_c[1])  \n",
        "    print(\"RBF produced higher accuracy than the polynomial fit\")\n",
        "    print(\"The best C values to use for highest accuracy are:\", bests)  # return them \n",
        "  else:  \n",
        "    bests = []   \n",
        "    for accuracy_d_c in poly_list:  # for each accuracy produced by a d, c combo\n",
        "      if accuracy_d_c[0] == best_accuracy_poly:  # if that accuracy is equal to the largest accuracy add it to the best list\n",
        "        Cs_and_Ds = [accuracy_d_c[2], accuracy_d_c[1]]  # add that d, c combo to a return list \n",
        "        bests.append(Cs_and_Ds) \n",
        "    print(\"The polynomial function produced higher accuracy than the RBF\")\n",
        "    print(\"The best D and C values to use for highest accuracy are:\", bests) # return them "
      ],
      "execution_count": null,
      "outputs": []
    },
    {
      "cell_type": "code",
      "metadata": {
        "id": "R1k-D68Qzezo",
        "colab": {
          "base_uri": "https://localhost:8080/",
          "height": 52
        },
        "outputId": "78e97821-21f1-43ac-ce4e-367d51558767"
      },
      "source": [
        "# what is a good range for the Cs?\n",
        "ds = list(range(1,3))\n",
        "Cs = np.arange(0.2, 2, 0.2).tolist()  # good rule of thumb: start below 1 and go to about 2\n",
        "test_size = 0.3\n",
        "best_predictions = optimal_cancer_preds(X, Y, Cs, ds, test_size)\n",
        "best_predictions"
      ],
      "execution_count": null,
      "outputs": [
        {
          "output_type": "stream",
          "text": [
            "The polynomial function produced higher accuracy than the RBF\n",
            "The best D and C values to use for highest accuracy are: [[0.8, 2], [1.0, 2], [1.2, 2], [1.4, 2], [1.6, 2], [1.8, 2]]\n"
          ],
          "name": "stdout"
        }
      ]
    },
    {
      "cell_type": "markdown",
      "metadata": {
        "id": "YD8nKkou0Ybo"
      },
      "source": [
        "# Plot at least 2 of the the support vectors (2-3 features per plot) for each kernel."
      ]
    },
    {
      "cell_type": "code",
      "metadata": {
        "id": "j90VaQIt0cvj",
        "colab": {
          "base_uri": "https://localhost:8080/",
          "height": 313
        },
        "outputId": "bf16b4ef-1f10-4fb9-9208-a660e0fc5225"
      },
      "source": [
        "import numpy as np\n",
        "import matplotlib.pyplot as plt\n",
        "from sklearn import svm, datasets\n",
        "\n",
        "def make_meshgrid(x, y, h=.02):\n",
        "    \"\"\"Create a mesh of points to plot in\n",
        "\n",
        "    Parameters\n",
        "    ----------\n",
        "    x: data to base x-axis meshgrid on\n",
        "    y: data to base y-axis meshgrid on\n",
        "    h: stepsize for meshgrid, optional\n",
        "\n",
        "    Returns\n",
        "    -------\n",
        "    xx, yy : ndarray\n",
        "    \"\"\"\n",
        "    x_min, x_max = x.min() - 1, x.max() + 1\n",
        "    y_min, y_max = y.min() - 1, y.max() + 1\n",
        "    xx, yy = np.meshgrid(np.arange(x_min, x_max, h),\n",
        "                         np.arange(y_min, y_max, h))\n",
        "    return xx, yy\n",
        "\n",
        "def plot_contours(ax, clf, xx, yy, **params):\n",
        "    \"\"\"Plot the decision boundaries for a classifier.\n",
        "\n",
        "    Parameters\n",
        "    ----------\n",
        "    ax: matplotlib axes object\n",
        "    clf: a classifier\n",
        "    xx: meshgrid ndarray\n",
        "    yy: meshgrid ndarray\n",
        "    params: dictionary of params to pass to contourf, optional\n",
        "    \"\"\"\n",
        "    Z = clf.predict(np.c_[xx.ravel(), yy.ravel()])\n",
        "    Z = Z.reshape(xx.shape)\n",
        "    out = ax.contourf(xx, yy, Z, **params)\n",
        "    return out\n",
        "\n",
        "\n",
        "\n",
        "cancer = datasets.load_breast_cancer()\n",
        "# Take the first two features\n",
        "X = cancer.data[:, :2]  # worst concave points and worst parameter \n",
        "y = cancer.target\n",
        "\n",
        "# we create an instance of SVM and fit out data. We do not scale our\n",
        "# data since we want to plot the support vectors\n",
        "C = 1.0  # SVM regularization parameter (usually start with .1 to 2)   # All Cs are the same so I just stuck with 2\n",
        "models = (svm.SVC(kernel='linear', C=C), #uses regular hinge loss\n",
        "          svm.LinearSVC(C=C, max_iter=10000), #uses squared hl\n",
        "          svm.SVC(kernel='rbf', gamma=0.7, C=C),\n",
        "         svm.SVC(kernel='poly', degree=2, gamma='auto', C=C))   # Degree 2 was best out of degrees 1-7\n",
        "models = (clf.fit(X, y) for clf in models)\n",
        "\n",
        "# title for the plots\n",
        "titles = ('SVC with linear kernel',\n",
        "          'LinearSVC (linear kernel)',\n",
        "          'SVC with RBF kernel',\n",
        "          'SVC with polynomial (degree 2) kernel')\n",
        "\n",
        "# Set-up 2x2 grid for plotting.\n",
        "fig, sub = plt.subplots(2, 2)\n",
        "plt.subplots_adjust(wspace=0.4, hspace=0.4)\n",
        "\n",
        "X0, X1 = X[:, 0], X[:, 1]\n",
        "xx, yy = make_meshgrid(X0, X1)\n",
        "\n",
        "for clf, title, ax in zip(models, titles, sub.flatten()):\n",
        "    plot_contours(ax, clf, xx, yy,\n",
        "                  cmap=plt.cm.coolwarm, alpha=0.8)\n",
        "    ax.scatter(X0, X1, c=y, cmap=plt.cm.coolwarm, s=20, edgecolors='k')\n",
        "    ax.set_xlim(xx.min(), xx.max())\n",
        "    ax.set_ylim(yy.min(), yy.max())\n",
        "    ax.set_xlabel('Mean Radius')\n",
        "    ax.set_ylabel('Mean Texture')\n",
        "    ax.set_xticks(())\n",
        "    ax.set_yticks(())\n",
        "    ax.set_title(title)\n",
        "\n",
        "plt.show()"
      ],
      "execution_count": null,
      "outputs": [
        {
          "output_type": "stream",
          "text": [
            "/usr/local/lib/python3.6/dist-packages/sklearn/svm/_base.py:947: ConvergenceWarning: Liblinear failed to converge, increase the number of iterations.\n",
            "  \"the number of iterations.\", ConvergenceWarning)\n"
          ],
          "name": "stderr"
        },
        {
          "output_type": "display_data",
          "data": {
            "image/png": "[encoded data removed]",
            "text/plain": [
              "<Figure size 432x288 with 4 Axes>"
            ]
          },
          "metadata": {
            "tags": []
          }
        }
      ]
    },
    {
      "cell_type": "markdown",
      "metadata": {
        "id": "gFXzUmKO3UGx"
      },
      "source": [
        "# Does changing the size of the test set change the optimal parameters? Why or why not? Does changing the parameters change the runtime? Why or why not?"
      ]
    },
    {
      "cell_type": "code",
      "metadata": {
        "id": "r0erWc-r-j5w",
        "colab": {
          "base_uri": "https://localhost:8080/",
          "height": 230
        },
        "outputId": "396a4676-75ad-4eee-c81a-38817c42101e"
      },
      "source": [
        "# to determine how test size affects optimal parameters \n",
        "\n",
        "test_sizes = [0.2, 0.3, 0.4, 0.5]\n",
        "for test_size in test_sizes:\n",
        "  ds = list(range(1,3))\n",
        "  Cs = np.arange(0.2, 2, 0.2).tolist()  # good rule of thumb: start below 1 and go to about 2\n",
        "  print(\"Test size:\", test_size)\n",
        "  best_predictions = optimal_cancer_preds(X, Y, Cs, ds, test_size)"
      ],
      "execution_count": null,
      "outputs": [
        {
          "output_type": "stream",
          "text": [
            "Test size: 0.2\n",
            "The polynomial function produced higher accuracy than the RBF\n",
            "The best D and C values to use for highest accuracy are: [[0.2, 1], [0.4, 1], [0.2, 2]]\n",
            "Test size: 0.3\n",
            "The polynomial function produced higher accuracy than the RBF\n",
            "The best D and C values to use for highest accuracy are: [[0.2, 1], [0.6, 1], [0.8, 1], [1.0, 1], [1.2, 1]]\n",
            "Test size: 0.4\n",
            "The polynomial function produced higher accuracy than the RBF\n",
            "The best D and C values to use for highest accuracy are: [[0.2, 1], [0.6, 1], [0.8, 1], [1.0, 1]]\n",
            "Test size: 0.5\n",
            "The polynomial function produced higher accuracy than the RBF\n",
            "The best D and C values to use for highest accuracy are: [[1.0, 1], [1.2, 1], [1.4, 1]]\n"
          ],
          "name": "stdout"
        }
      ]
    },
    {
      "cell_type": "code",
      "metadata": {
        "id": "FdFQdNugwGUe",
        "colab": {
          "base_uri": "https://localhost:8080/",
          "height": 123
        },
        "outputId": "a5084811-cede-4e40-89e0-8b0d8530d9b4"
      },
      "source": [
        "# to determine how parameters affect runtime\n",
        "\n",
        "from sklearn.metrics import mean_absolute_error\n",
        "from sklearn.metrics import accuracy_score\n",
        "import numpy as np\n",
        "from sklearn import svm\n",
        "import time \n",
        "\n",
        "def fineTuning(X_train, X_test, y_train, y_test, ds,Cs):\n",
        "  for d in ds:\n",
        "    for C in Cs:\n",
        "      start_time = time.time()\n",
        "      clf = svm.SVC(kernel='poly', degree=d, gamma='auto', C=C)\n",
        "      model = clf.fit(X_train, y_train.ravel()) \n",
        "      y_pred = model.predict(X_test)\n",
        "      end_time = time.time()\n",
        "      #print('d:',d, 'C:',round(C,2), round(mean_absolute_error(y_pred, y_test),5))\n",
        "      print('d:',d, 'C:',round(C,2),'time:', end_time - start_time)\n",
        "\n",
        "ds = list(range(1,4))\n",
        "Cs = np.arange(0.2, 0.6, 0.2).tolist()  # good rule of thumb: start below 1 and go to about 2 \n",
        "X = pd.DataFrame(X).values\n",
        "Y = pd.DataFrame(Y).values\n",
        "from sklearn.model_selection import train_test_split\n",
        "X_train, X_test, y_train, y_test = train_test_split(X, Y, test_size=0.3)\n",
        "poly_list = fineTuning(X_train, X_test, y_train, y_test, ds,Cs)\n",
        "poly_list"
      ],
      "execution_count": null,
      "outputs": [
        {
          "output_type": "stream",
          "text": [
            "d: 1 C: 0.2 time: 0.015381336212158203\n",
            "d: 1 C: 0.4 time: 0.023677587509155273\n",
            "d: 2 C: 0.2 time: 8.501473188400269\n",
            "d: 2 C: 0.4 time: 9.760929822921753\n",
            "d: 3 C: 0.2 time: 76.70442795753479\n",
            "d: 3 C: 0.4 time: 85.92413473129272\n"
          ],
          "name": "stdout"
        }
      ]
    }
  ]
}