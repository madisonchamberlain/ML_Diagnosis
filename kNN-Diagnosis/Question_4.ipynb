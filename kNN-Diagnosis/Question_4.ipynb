{
  "nbformat": 4,
  "nbformat_minor": 0,
  "metadata": {
    "colab": {
      "name": "Question_4.ipynb",
      "provenance": [],
      "collapsed_sections": []
    },
    "kernelspec": {
      "name": "python3",
      "display_name": "Python 3"
    }
  },
  "cells": [
    {
      "cell_type": "markdown",
      "metadata": {
        "id": "PiO5Q0D36yah"
      },
      "source": [
        "# Question 4:\n",
        "\n",
        "Suppose the Vertebrae Data (sec. 2.3) is gathered from athletes so we want to do a mild treatment on patients who possess risk of a disk hernia or spondilolysthesis. Patients with greater than or equal to 30% probability of disk hernia or of spondilolysthesis are considered at-risk of that prognosis. Write a function that uses kNN to predict whether a patient is at-risk with call form atRisk(rows,k,path), where rows is the subset of rows of the data to test on (using cross validation) and path is the string containing the path to the data on the users system. Have your function return a 2 column matrix (DH and SL) where the columns will be factors 0, 1, or 2, depending on whether a person is classified as either not having, having (highest probability class and with >= 0.5 probability), or is at-risk of the corresponding feature column (DH or SL,) respectively. How many factor levels would be required if we formed 1 column from these 2? \n"
      ]
    },
    {
      "cell_type": "code",
      "metadata": {
        "id": "iVII2Lmd7u14",
        "colab": {
          "base_uri": "https://localhost:8080/",
          "height": 122
        },
        "outputId": "eb917332-7a76-4129-a596-5f0fbc9a237d"
      },
      "source": [
        "# import drive \n",
        "from google.colab import drive\n",
        "drive.mount('/content/drive')"
      ],
      "execution_count": null,
      "outputs": [
        {
          "output_type": "stream",
          "text": [
            "Go to this URL in a browser: https://accounts.google.com/o/oauth2/auth?client_id=947318989803-6bn6qk8qdgf4n4g3pfee6491hc0brc4i.apps.googleusercontent.com&redirect_uri=urn%3aietf%3awg%3aoauth%3a2.0%3aoob&response_type=code&scope=email%20https%3a%2f%2fwww.googleapis.com%2fauth%2fdocs.test%20https%3a%2f%2fwww.googleapis.com%2fauth%2fdrive%20https%3a%2f%2fwww.googleapis.com%2fauth%2fdrive.photos.readonly%20https%3a%2f%2fwww.googleapis.com%2fauth%2fpeopleapi.readonly\n",
            "\n",
            "Enter your authorization code:\n",
            "··········\n",
            "Mounted at /content/drive\n"
          ],
          "name": "stdout"
        }
      ]
    },
    {
      "cell_type": "code",
      "metadata": {
        "id": "dg7wEOQzGkuW"
      },
      "source": [
        "import pandas as pd \n",
        "\n",
        "def probs_to_dummy(DH_SL_NO):\n",
        "  DH = 0\n",
        "  SL = 0\n",
        "  if DH_SL_NO[0] < 0.3:\n",
        "    DH = 0\n",
        "  if DH_SL_NO[0] >= 0.3:\n",
        "    DH = 1\n",
        "  if DH_SL_NO[0] >= 0.5:\n",
        "    DH = 2\n",
        "  if DH_SL_NO[1] < 0.3:\n",
        "    SL = 0\n",
        "  if DH_SL_NO[1] >= 0.3:\n",
        "    SL = 1\n",
        "  if DH_SL_NO[1] >= 0.5:\n",
        "    SL = 2\n",
        "  return[DH, SL]\n",
        "\n",
        "def atRisk(rows,k,path):\n",
        "  from sklearn.preprocessing import LabelEncoder\n",
        "  from sklearn.neighbors import KNeighborsClassifier\n",
        "  import numpy as np\n",
        "\n",
        "  vert = pd.read_csv(path, sep=' ',header=None)\n",
        "  X = vert.iloc[:,0:6] \n",
        "  le = LabelEncoder()\n",
        "  vert.iloc[:,6] = le.fit_transform(vert.iloc[:,6])\n",
        "  Y = vert.iloc[:,6]\n",
        "\n",
        "  knn = KNeighborsClassifier(n_neighbors=k)\n",
        "  knn.fit(X, Y)\n",
        "  test = pd.DataFrame(X.iloc[0:rows,:])\n",
        "  liklihood = []\n",
        "  for DH_SL_NO in knn.predict_proba(test):\n",
        "    DH_SL = probs_to_dummy(DH_SL_NO)\n",
        "    liklihood.append(DH_SL)\n",
        "  return(np.array(liklihood))"
      ],
      "execution_count": null,
      "outputs": []
    },
    {
      "cell_type": "code",
      "metadata": {
        "id": "NejMpKrrNULb",
        "colab": {
          "base_uri": "https://localhost:8080/",
          "height": 204
        },
        "outputId": "4726f349-3978-426b-c459-ddbce4edd4ee"
      },
      "source": [
        "path = '/content/drive/My Drive/column_3C.dat'\n",
        "rows = 11\n",
        "k = 5\n",
        "\n",
        "answer = atRisk(rows,k,path)\n",
        "print(answer)"
      ],
      "execution_count": null,
      "outputs": [
        {
          "output_type": "stream",
          "text": [
            "[[2 0]\n",
            " [2 0]\n",
            " [2 0]\n",
            " [2 0]\n",
            " [2 0]\n",
            " [1 2]\n",
            " [1 2]\n",
            " [2 1]\n",
            " [2 1]\n",
            " [2 0]\n",
            " [2 1]]\n"
          ],
          "name": "stdout"
        }
      ]
    }
  ]
}